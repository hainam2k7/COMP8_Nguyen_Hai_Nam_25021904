{
  "nbformat": 4,
  "nbformat_minor": 0,
  "metadata": {
    "colab": {
      "provenance": []
    },
    "kernelspec": {
      "name": "python3",
      "display_name": "Python 3"
    },
    "language_info": {
      "name": "python"
    }
  },
  "cells": [
    {
      "cell_type": "code",
      "execution_count": null,
      "metadata": {
        "colab": {
          "base_uri": "https://localhost:8080/"
        },
        "id": "16EHyFDjHCa8",
        "outputId": "6e5fad1e-5c02-4873-d8ca-f3839974f583"
      },
      "outputs": [
        {
          "output_type": "stream",
          "name": "stdout",
          "text": [
            "Nhập số nguyên n: 1234\n",
            "4321Nhập số nguyên n: 2222\n",
            "2222Nhập số nguyên n: 5343\n",
            "3435Nhập số nguyên n: 3443\n",
            "3443Nhập số nguyên n: 1\n",
            "1"
          ]
        }
      ],
      "source": [
        "#Viết một chương trình nhập vào một số nguyên n và in ra các chữ số đảo ngược nhau.\n",
        "for a in range(5):\n",
        "    a = int(input('Nhập số nguyên n: '))\n",
        "    for i in str(a)[::-1]:\n",
        "        print(i, end=\"\")"
      ]
    },
    {
      "cell_type": "code",
      "source": [
        "#Hoán đổi hai số không sd biến tạm thời\n",
        "#Sử dụng phép toán XOR bitwise để hoán đổi giá trị của hai biến.\n",
        "for i in range(5):\n",
        "    a,b = map(int,input('Nhập số: ').split())\n",
        "    a=a^b\n",
        "    b=a^b\n",
        "    a=a^b\n",
        "    print(a,b)"
      ],
      "metadata": {
        "id": "-hrYLifGUtIt",
        "colab": {
          "base_uri": "https://localhost:8080/"
        },
        "outputId": "cdf7d597-48ce-4e1e-e3a4-4d3176f6e344"
      },
      "execution_count": 1,
      "outputs": [
        {
          "output_type": "stream",
          "name": "stdout",
          "text": [
            "Nhập số: 1 2\n",
            "2 1\n",
            "Nhập số: 2 3\n",
            "3 2\n",
            "Nhập số: 3 4\n",
            "4 3\n",
            "Nhập số: 121212 232323\n",
            "232323 121212\n",
            "Nhập số: 5 5\n",
            "5 5\n"
          ]
        }
      ]
    },
    {
      "cell_type": "code",
      "source": [
        "#Kiểm tra xem một số có phải là lũy thừa của 2 hay không\n",
        "#Sử dụng các toán tử bitwise để xác định xem một số có phải là lũy thừa của 2 hay không.\n",
        "for i in range(5):\n",
        "    a = int(input('Nhập số: '))\n",
        "    if a & (a-1) == 0:\n",
        "        print(True)\n",
        "    else:\n",
        "        print(False)"
      ],
      "metadata": {
        "colab": {
          "base_uri": "https://localhost:8080/"
        },
        "id": "DDF6qfAnUtkR",
        "outputId": "08671288-379d-44bc-864b-a20057571139"
      },
      "execution_count": null,
      "outputs": [
        {
          "output_type": "stream",
          "name": "stdout",
          "text": [
            "Nhập số: 1\n",
            "True\n",
            "Nhập số: 64\n",
            "True\n",
            "Nhập số: 33554432\n",
            "True\n",
            "Nhập số: 4212332\n",
            "False\n",
            "Nhập số: 192\n",
            "False\n"
          ]
        }
      ]
    },
    {
      "cell_type": "code",
      "source": [
        "#Viết chương trình chia một số m cho n, kết quả thu được làm tròn xuống\n",
        "for i in range(5):\n",
        "    m,n= map(int,input('Nhập số m,n: ').split())\n",
        "    print(m//n)"
      ],
      "metadata": {
        "colab": {
          "base_uri": "https://localhost:8080/"
        },
        "id": "jTGQII2trmWZ",
        "outputId": "e39803eb-1c93-4fcf-aadd-3a0fd4366762"
      },
      "execution_count": 2,
      "outputs": [
        {
          "output_type": "stream",
          "name": "stdout",
          "text": [
            "Nhập số m,n: 2 3\n",
            "0\n",
            "Nhập số m,n: 2323 45\n",
            "51\n",
            "Nhập số m,n: 67426 11\n",
            "6129\n",
            "Nhập số m,n: 7553 764\n",
            "9\n",
            "Nhập số m,n: 2442 2\n",
            "1221\n"
          ]
        }
      ]
    },
    {
      "cell_type": "code",
      "source": [
        "#Viết chương trình chia một số m cho n, kết quả thu được làm tròn lên\n",
        "import math\n",
        "for i in range(5):\n",
        "    m,n=map(int,input('Nhập số m,n: ').split())\n",
        "    print(math.ceil(m/n))"
      ],
      "metadata": {
        "colab": {
          "base_uri": "https://localhost:8080/"
        },
        "id": "A6pcEFxPs-wu",
        "outputId": "ecf4d371-b07d-4e9f-b3bd-bf457948bc92"
      },
      "execution_count": 3,
      "outputs": [
        {
          "output_type": "stream",
          "name": "stdout",
          "text": [
            "Nhập số m,n: 2 3\n",
            "1\n",
            "Nhập số m,n: 2323 45\n",
            "52\n",
            "Nhập số m,n: 67426 11\n",
            "6130\n",
            "Nhập số m,n: 7553 764\n",
            "10\n",
            "Nhập số m,n: 2442 2\n",
            "1221\n"
          ]
        }
      ]
    },
    {
      "cell_type": "code",
      "source": [
        "#[Even and Odd]\n",
        "#Nhập vào một số nguyên dương x, bạn hãy kiểm tra xem x là số chẵn hay lẻ. Nếu x là số chẵn, in ra \"Even\". Nếu x là số lẻ, in ra \"Odd\".\n",
        "for i in range(5):\n",
        "    x=int(input('Nhập số nguyên dương: '))\n",
        "    if x % 2 == 0:\n",
        "        print('Even')\n",
        "    else:\n",
        "        print('Odd')"
      ],
      "metadata": {
        "colab": {
          "base_uri": "https://localhost:8080/"
        },
        "id": "bSGHV-rmwNwl",
        "outputId": "8ae8c6f1-7c95-4899-ac1c-32e151aa9f98"
      },
      "execution_count": 4,
      "outputs": [
        {
          "output_type": "stream",
          "name": "stdout",
          "text": [
            "Nhập số nguyên dương: 2\n",
            "Even\n",
            "Nhập số nguyên dương: 3\n",
            "Odd\n",
            "Nhập số nguyên dương: 4\n",
            "Even\n",
            "Nhập số nguyên dương: 5\n",
            "Odd\n",
            "Nhập số nguyên dương: 6\n",
            "Even\n"
          ]
        }
      ]
    },
    {
      "cell_type": "code",
      "source": [
        "#[Check negative numbers]\n",
        "#Nhập vào hai số nguyên a, b. Nếu cả hai số a, b đều âm thì in ra \"Yes\", ngược lại in ra \"No\".\n",
        "for i in range(5):\n",
        "    a,b=map(int,input('Nhập số nguyên dương: ').split())\n",
        "    if a<0 and b<0:\n",
        "        print('Yes')\n",
        "    else:\n",
        "        print('No')"
      ],
      "metadata": {
        "colab": {
          "base_uri": "https://localhost:8080/"
        },
        "id": "4e7Oe89dyCQJ",
        "outputId": "1913072c-69ce-4519-b0cc-99b966c13042"
      },
      "execution_count": 5,
      "outputs": [
        {
          "output_type": "stream",
          "name": "stdout",
          "text": [
            "Nhập số nguyên dương: 4 -1\n",
            "No\n",
            "Nhập số nguyên dương: -5 -8\n",
            "Yes\n",
            "Nhập số nguyên dương: 0 0\n",
            "No\n",
            "Nhập số nguyên dương: 4 -1000\n",
            "No\n",
            "Nhập số nguyên dương: -121 -12\n",
            "Yes\n"
          ]
        }
      ]
    },
    {
      "cell_type": "code",
      "source": [
        "#[Longer string]\n",
        "#Nhập vào hai chuỗi a, b gồm các chữ cái thường. In ra \"True\" nếu chuỗi a dài hơn chuỗi b. Ngược lại in ra \"False\".\n",
        "for i in range(5):\n",
        "    a,b=map(str,input('Nhập chữ cái: ').split())\n",
        "    if len(a) > len(b):\n",
        "        print('True')\n",
        "    else:\n",
        "        print('False')"
      ],
      "metadata": {
        "colab": {
          "base_uri": "https://localhost:8080/"
        },
        "id": "sPApCoBHy98x",
        "outputId": "287845ad-53ff-4761-a135-0b22383d745a"
      },
      "execution_count": 6,
      "outputs": [
        {
          "output_type": "stream",
          "name": "stdout",
          "text": [
            "Nhập chữ cái: cat dog\n",
            "False\n",
            "Nhập chữ cái: mouse dog\n",
            "True\n",
            "Nhập chữ cái: a b\n",
            "False\n",
            "Nhập chữ cái: aaaaa cdfer\n",
            "False\n",
            "Nhập chữ cái: abcabc a\n",
            "True\n"
          ]
        }
      ]
    },
    {
      "cell_type": "code",
      "source": [
        "\"\"\"\n",
        " [Triangle]\n",
        "Nhập vào 3 số nguyên dương a, b, c. Kiểm tra xem a, b, c có cấu thành độ dài cạnh của 1 tam giác\n",
        "được không. Nếu a, b, c cấu tạo thành được một tam giác, in ra \"Yes\". Ngược lại in ra \"No\".\n",
        "\"\"\"\n",
        "for i in range(5):\n",
        "    a,b,c=map(int,input('Nhập số nguyên dương: ').split())\n",
        "    if a+b>c and a+c>b and b+c>a:\n",
        "        print('Yes')\n",
        "    else:\n",
        "        print('No')"
      ],
      "metadata": {
        "colab": {
          "base_uri": "https://localhost:8080/"
        },
        "id": "ac70z-_80g_Y",
        "outputId": "2f424cd1-b323-4559-9889-7efa0f718809"
      },
      "execution_count": 7,
      "outputs": [
        {
          "output_type": "stream",
          "name": "stdout",
          "text": [
            "Nhập số nguyên dương: 16 25 9\n",
            "No\n",
            "Nhập số nguyên dương: 3 4 5\n",
            "Yes\n",
            "Nhập số nguyên dương: 1 2 3\n",
            "No\n",
            "Nhập số nguyên dương: 1 0 10\n",
            "No\n",
            "Nhập số nguyên dương: 10 11 12\n",
            "Yes\n"
          ]
        }
      ]
    },
    {
      "cell_type": "code",
      "source": [
        "#[Largest number]\n",
        "#Nhập vào 4 số nguyên. In ra màn hình số nguyên lớn nhất trong 4 số.\n",
        "for i in range(5):\n",
        "    a,b,c,d=map(int,input('Nhập số nguyên dương: ').split())\n",
        "    if a>b and a>c and a>d:\n",
        "        print(a)\n",
        "    elif b>a and b>c and b>d:\n",
        "        print(b)\n",
        "    elif c>a and c>b and c>d:\n",
        "        print(c)\n",
        "    else:\n",
        "        print(d)"
      ],
      "metadata": {
        "colab": {
          "base_uri": "https://localhost:8080/"
        },
        "id": "rU5eKITX1YK3",
        "outputId": "13e35136-c005-4592-9548-728b376e61fb"
      },
      "execution_count": 8,
      "outputs": [
        {
          "output_type": "stream",
          "name": "stdout",
          "text": [
            "Nhập số nguyên dương: 1 2 4 3\n",
            "4\n",
            "Nhập số nguyên dương: 1000 2000 3123 343\n",
            "3123\n",
            "Nhập số nguyên dương: -1 -1 -1 -1\n",
            "-1\n",
            "Nhập số nguyên dương: 1231 837 12483 123488\n",
            "123488\n",
            "Nhập số nguyên dương: 99999 999 99 9\n",
            "99999\n"
          ]
        }
      ]
    },
    {
      "cell_type": "code",
      "source": [
        "\"\"\"\n",
        "[Phân loại tam giác]\n",
        "Nhập vào 3 số nguyên dương a,b,c là độ dài 3 cạnh của một tam giác. Kiểm tra 3 số đã nhập có tạo thành\n",
        "một tam giác hợp lệ hay không. Nếu không in ra \"Không phải tam giác\". Nếu có, phân loại tam giác đó là\n",
        "\"Tam giác đều\", \"Tam giác cân\", hay \"Tam giác thường\".\n",
        "\"\"\"\n",
        "for i in range(5):\n",
        "    a,b,c=map(int,input('Nhập số nguyên dương: ').split())\n",
        "    if a+b>c and a+c>b and b+c>a:\n",
        "        if a == b == c:\n",
        "            print('Tam giác đều')\n",
        "        elif a == b or b == c or a == c:\n",
        "            print('Tam giác cân')\n",
        "        else:\n",
        "            print('Tam giác thường')\n",
        "    else:\n",
        "        print('Không phải tam giác')"
      ],
      "metadata": {
        "colab": {
          "base_uri": "https://localhost:8080/"
        },
        "id": "siVlisTo3uTD",
        "outputId": "252872af-66df-4649-b52d-312f9f0d055d"
      },
      "execution_count": 9,
      "outputs": [
        {
          "output_type": "stream",
          "name": "stdout",
          "text": [
            "Nhập số nguyên dương: 3 3 3\n",
            "Tam giác đều\n",
            "Nhập số nguyên dương: 3 3 4\n",
            "Tam giác cân\n",
            "Nhập số nguyên dương: 3 3 5\n",
            "Tam giác cân\n",
            "Nhập số nguyên dương: 1 2 4\n",
            "Không phải tam giác\n",
            "Nhập số nguyên dương: 0 0 0\n",
            "Không phải tam giác\n"
          ]
        }
      ]
    },
    {
      "cell_type": "code",
      "source": [
        "\"\"\"\n",
        "[Kiểm tra năm nhuận]\n",
        "Nhập vào một số nguyên dương n là số năm, kiểm tra xem năm đó có phải là năm nhuận hay không. Năm\n",
        "nhuận là năm chia hết cho 4 nhưng không chia hết cho 100, hoặc chia hết cho 400. Nếu là năm nhuận in ra\n",
        "\"Yes\", nếu không in ra \"No\"\n",
        "\"\"\"\n",
        "for i in range(5):\n",
        "    n=int(input('Nhập năm: '))\n",
        "    if (n%4==0 and not n%100==0) or (n%400==0):\n",
        "        print('Yes')\n",
        "    else:\n",
        "        print('No')"
      ],
      "metadata": {
        "colab": {
          "base_uri": "https://localhost:8080/"
        },
        "id": "xUIVf2_e4ruP",
        "outputId": "93831ebd-88ab-40ed-ba60-b8cc44aadb03"
      },
      "execution_count": 10,
      "outputs": [
        {
          "output_type": "stream",
          "name": "stdout",
          "text": [
            "Nhập năm: 2000\n",
            "Yes\n",
            "Nhập năm: 2004\n",
            "Yes\n",
            "Nhập năm: 1900\n",
            "No\n",
            "Nhập năm: 2025\n",
            "No\n",
            "Nhập năm: 2024\n",
            "Yes\n"
          ]
        }
      ]
    },
    {
      "cell_type": "code",
      "source": [
        "\"\"\"\n",
        "[Tính tiền điện]\n",
        "Nhập vào số kWh điện tiêu thụ. Tính tiền điện theo các bậc sau:\n",
        "- 0-50 kWh: 1500đ/kWh\n",
        "- 51-100 kWh: 2000đ/kWh\n",
        "- 100 kWh: 3000đ/kWh\n",
        "\"\"\"\n",
        "for i in range(5):\n",
        "    n=int(input('Nhập số kWh điện: '))\n",
        "    if 0<=n<=50:\n",
        "        a = n*1500\n",
        "    elif 51<=n<=100:\n",
        "        a = 50*1500 + (n-50)*2000\n",
        "    else:\n",
        "        a = 50*1500 + 50*2000 + (n-100)*3000\n",
        "    print('Số tiền điện phải trả là:',a,'đồng')"
      ],
      "metadata": {
        "colab": {
          "base_uri": "https://localhost:8080/"
        },
        "id": "iGp5X_TQ5v0y",
        "outputId": "b25cac57-0b3e-44c7-c814-3739861be95a"
      },
      "execution_count": 12,
      "outputs": [
        {
          "output_type": "stream",
          "name": "stdout",
          "text": [
            "Nhập số kWh điện: 40\n",
            "Số tiền điện phải trả là: 60000 đồng\n",
            "Nhập số kWh điện: 70\n",
            "Số tiền điện phải trả là: 115000 đồng\n",
            "Nhập số kWh điện: 120\n",
            "Số tiền điện phải trả là: 235000 đồng\n",
            "Nhập số kWh điện: 0\n",
            "Số tiền điện phải trả là: 0 đồng\n",
            "Nhập số kWh điện: 100\n",
            "Số tiền điện phải trả là: 175000 đồng\n"
          ]
        }
      ]
    },
    {
      "cell_type": "code",
      "source": [
        "\"\"\"\n",
        "[Giải phương trình bậc nhất]\n",
        "Nhập vào hai số thực a và b của phương trình ax + b = 0. Tìm và in ra nghiệm của phương trình, kết quả\n",
        "làm tròn đến số thập phân thứ 2. In ra \"Vô nghiệm\" hoặc \"Vô số nghiệm\" trong trường hợp tương ứng.\n",
        "\"\"\"\n",
        "for i in range(5):\n",
        "    a,b=map(float,input('Nhập số thực a,b: ').split())\n",
        "    if a==0:\n",
        "        if b==0:\n",
        "            print('Vô số nghiệm')\n",
        "        else:\n",
        "            print('Vô nghiệm')\n",
        "    else:\n",
        "        print(f'{-b/a:.2f}')"
      ],
      "metadata": {
        "colab": {
          "base_uri": "https://localhost:8080/"
        },
        "id": "FdmGfXe17n_H",
        "outputId": "bf0163c0-b2f3-4050-a781-786e5fedf015"
      },
      "execution_count": 13,
      "outputs": [
        {
          "output_type": "stream",
          "name": "stdout",
          "text": [
            "Nhập số thực a,b: 2.4 1.22\n",
            "-0.51\n",
            "Nhập số thực a,b: 0 5\n",
            "Vô nghiệm\n",
            "Nhập số thực a,b: 0 0\n",
            "Vô số nghiệm\n",
            "Nhập số thực a,b: 3 -9\n",
            "3.00\n",
            "Nhập số thực a,b: 0.23 99.1\n",
            "-430.87\n"
          ]
        }
      ]
    },
    {
      "cell_type": "code",
      "source": [
        "\"\"\"\n",
        "[Xếp loại học lực]\n",
        "Nhập vào điểm trung bình của một học sinh và in ra học lực của học sinh đó. Xếp loại học lực theo quy tắc:\n",
        "- >= 8.0: Giỏi\n",
        "- >= 6.5: Khá\n",
        "- >= 5.0: Trung bình\n",
        "- < 5.0: Yếu\n",
        "\"\"\"\n",
        "for i in range(5):\n",
        "    mark=float(input('Nhập điểm: '))\n",
        "    if mark >= 8 and mark <= 10:\n",
        "        print('Giỏi')\n",
        "    elif mark >= 6.5 and mark < 8:\n",
        "        print('Khá')\n",
        "    elif mark >= 5 and mark < 6.5:\n",
        "        print('Trung bình')\n",
        "    else:\n",
        "        print('Yếu')"
      ],
      "metadata": {
        "colab": {
          "base_uri": "https://localhost:8080/"
        },
        "id": "G9XCLxXB8z-S",
        "outputId": "d43b7d63-331e-4a6d-f271-6638f7f3e16c"
      },
      "execution_count": 15,
      "outputs": [
        {
          "output_type": "stream",
          "name": "stdout",
          "text": [
            "Nhập điểm: 9.2\n",
            "Giỏi\n",
            "Nhập điểm: 7.5\n",
            "Khá\n",
            "Nhập điểm: 6\n",
            "Trung bình\n",
            "Nhập điểm: 4.9\n",
            "Yếu\n",
            "Nhập điểm: 8\n",
            "Giỏi\n"
          ]
        }
      ]
    },
    {
      "cell_type": "code",
      "source": [
        "\"\"\"\n",
        "[Rounding]\n",
        "Nhập vào một số thực: in ra kết quả làm tròn lên ,tròn xuống, làm tròn tới số nguyên gần nhất (không được\n",
        "sử dụng hàm sẵn có của python). Các kết quả cách nhau một dấu cách.\n",
        "\"\"\"\n",
        "for i in range(5):\n",
        "    a=float(input('Nhập số: '))\n",
        "    def custom_ceil(a):\n",
        "        A = int(a)\n",
        "        return A if A < 0 or a == A else A + 1\n",
        "    def custom_floor(a):\n",
        "        A = int(a)\n",
        "        return A if A >= 0 or a == A else A - 1\n",
        "    def custom_round(a):\n",
        "        A = int(a)\n",
        "        return A if abs(a - A) < 0.5 else A + 1 if a > 0 else A - 1\n",
        "    print(custom_ceil(a) , custom_floor(a) , custom_round(a))"
      ],
      "metadata": {
        "colab": {
          "base_uri": "https://localhost:8080/"
        },
        "id": "e3DvB59685rZ",
        "outputId": "7e6c4289-79d7-4702-9c45-0a1381947fc8"
      },
      "execution_count": 16,
      "outputs": [
        {
          "output_type": "stream",
          "name": "stdout",
          "text": [
            "Nhập số: -5.8\n",
            "-5 -6 -6\n",
            "Nhập số: 9.0\n",
            "9 9 9\n",
            "Nhập số: 8.2\n",
            "9 8 8\n",
            "Nhập số: -7.5\n",
            "-7 -8 -8\n",
            "Nhập số: 7.4\n",
            "8 7 7\n"
          ]
        }
      ]
    }
  ]
}