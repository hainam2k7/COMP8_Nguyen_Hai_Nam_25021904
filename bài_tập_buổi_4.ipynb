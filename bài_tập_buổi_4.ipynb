{
  "nbformat": 4,
  "nbformat_minor": 0,
  "metadata": {
    "colab": {
      "provenance": []
    },
    "kernelspec": {
      "name": "python3",
      "display_name": "Python 3"
    },
    "language_info": {
      "name": "python"
    }
  },
  "cells": [
    {
      "cell_type": "code",
      "execution_count": null,
      "metadata": {
        "colab": {
          "base_uri": "https://localhost:8080/"
        },
        "id": "M4x4QsUjiEsM",
        "outputId": "a59e7e65-4e1b-4210-8b4f-502962d92694"
      },
      "outputs": [
        {
          "output_type": "stream",
          "name": "stdout",
          "text": [
            "Nhập số nguyên: 3\n",
            "6\n",
            "Nhập số nguyên: 5\n",
            "15\n",
            "Nhập số nguyên: 100\n",
            "5050\n",
            "Nhập số nguyên: 1000\n",
            "500500\n",
            "Nhập số nguyên: 50\n",
            "1275\n"
          ]
        }
      ],
      "source": [
        "#W4A1\n",
        "for x in range(5):\n",
        "  n = int(input('Nhập số nguyên: '))\n",
        "  total = 0\n",
        "  for i in range(1, n + 1):\n",
        "    total += i\n",
        "  print(total)"
      ]
    },
    {
      "cell_type": "code",
      "source": [
        "#W4A2\n",
        "for i in range(5):\n",
        "  n = int(input(\"Nhập số nguyên: \"))\n",
        "  while n < 0:\n",
        "    n+=1\n",
        "    if n > 0:\n",
        "        break\n",
        "  def so_nguyen_to(n):\n",
        "    if n < 2:\n",
        "        return False\n",
        "    for i in range(2, int(n**0.5) + 1):\n",
        "        if n % i == 0:\n",
        "            return False\n",
        "    return True\n",
        "  print(so_nguyen_to(n))"
      ],
      "metadata": {
        "colab": {
          "base_uri": "https://localhost:8080/"
        },
        "id": "HQ64gowplMHS",
        "outputId": "28de13a3-3e0c-4c2d-9d72-4f25400822da"
      },
      "execution_count": null,
      "outputs": [
        {
          "output_type": "stream",
          "name": "stdout",
          "text": [
            "Nhập số nguyên: 4\n",
            "False\n",
            "Nhập số nguyên: 7\n",
            "True\n",
            "Nhập số nguyên: 13\n",
            "True\n",
            "Nhập số nguyên: 9\n",
            "False\n",
            "Nhập số nguyên: 100\n",
            "False\n"
          ]
        }
      ]
    },
    {
      "cell_type": "code",
      "source": [
        "#W4A3\n",
        "for x in range(5):\n",
        "  n = int(input(\"Nhập số nguyên: \"))\n",
        "  tích = 1\n",
        "  for i in range(1, n+1):\n",
        "    tích *= i\n",
        "  print(tích)"
      ],
      "metadata": {
        "colab": {
          "base_uri": "https://localhost:8080/"
        },
        "id": "80fG1BCTo6bV",
        "outputId": "fd43c52d-414d-4f05-9363-a04919451a19"
      },
      "execution_count": null,
      "outputs": [
        {
          "output_type": "stream",
          "name": "stdout",
          "text": [
            "Nhập số nguyên: 3\n",
            "6\n",
            "Nhập số nguyên: 4\n",
            "24\n",
            "Nhập số nguyên: 1\n",
            "1\n",
            "Nhập số nguyên: 5\n",
            "120\n",
            "Nhập số nguyên: 8\n",
            "40320\n"
          ]
        }
      ]
    },
    {
      "cell_type": "code",
      "source": [
        "#W4A4\n",
        "for i in range(5):\n",
        "  n = int(input('Nhập số nguyên dương: '))\n",
        "  số_chữ_số = 0\n",
        "  if n < 0:\n",
        "    x = abs(n)\n",
        "    while x>0:\n",
        "        x //= 10\n",
        "        số_chữ_số += 1\n",
        "  else:\n",
        "    while n>0:\n",
        "        n //= 10\n",
        "        số_chữ_số += 1\n",
        "  print(số_chữ_số)"
      ],
      "metadata": {
        "id": "LW00PWtPo61x",
        "colab": {
          "base_uri": "https://localhost:8080/"
        },
        "outputId": "c341584c-adee-4663-f6cf-c026157eb2f5"
      },
      "execution_count": null,
      "outputs": [
        {
          "output_type": "stream",
          "name": "stdout",
          "text": [
            "Nhập số nguyên dương: 234\n",
            "3\n",
            "Nhập số nguyên dương: -1593\n",
            "4\n",
            "Nhập số nguyên dương: 1234567\n",
            "7\n",
            "Nhập số nguyên dương: -1223240\n",
            "7\n",
            "Nhập số nguyên dương: 243430\n",
            "6\n"
          ]
        }
      ]
    },
    {
      "cell_type": "code",
      "source": [
        "#W4A5\n",
        "for x in range(5):\n",
        "  n = int(input('Nhập 1 số n: '))\n",
        "  dãy_số = []\n",
        "  for i in range(n):\n",
        "    số_nguyên = int(input('Nhập số nguyên: '))\n",
        "    dãy_số.append(số_nguyên)\n",
        "  if 42 in dãy_số:\n",
        "    print(\"I've found the meaning of life!\")\n",
        "  else:\n",
        "    print(\"It's a joke!\")"
      ],
      "metadata": {
        "id": "7tQm9JThUEin",
        "colab": {
          "base_uri": "https://localhost:8080/"
        },
        "outputId": "731534b5-3d7b-4980-85e1-042c7929fa77"
      },
      "execution_count": null,
      "outputs": [
        {
          "output_type": "stream",
          "name": "stdout",
          "text": [
            "Nhập 1 số n: 5\n",
            "Nhập số nguyên: 1\n",
            "Nhập số nguyên: 192\n",
            "Nhập số nguyên: 32\n",
            "Nhập số nguyên: 42\n",
            "Nhập số nguyên: 39\n",
            "I've found the meaning of life!\n",
            "Nhập 1 số n: 2\n",
            "Nhập số nguyên: 3\n",
            "Nhập số nguyên: 4\n",
            "It's a joke!\n",
            "Nhập 1 số n: 5\n",
            "Nhập số nguyên: 54\n",
            "Nhập số nguyên: 23\n",
            "Nhập số nguyên: 12\n",
            "Nhập số nguyên: 34\n",
            "Nhập số nguyên: 42\n",
            "I've found the meaning of life!\n",
            "Nhập 1 số n: 10\n",
            "Nhập số nguyên: 1\n",
            "Nhập số nguyên: 2\n",
            "Nhập số nguyên: 3\n",
            "Nhập số nguyên: 4\n",
            "Nhập số nguyên: 4\n",
            "Nhập số nguyên: 5\n",
            "Nhập số nguyên: 6\n",
            "Nhập số nguyên: 7\n",
            "Nhập số nguyên: 8\n",
            "Nhập số nguyên: 9\n",
            "It's a joke!\n",
            "Nhập 1 số n: 7\n",
            "Nhập số nguyên: 42\n",
            "Nhập số nguyên: 54\n",
            "Nhập số nguyên: 6\n",
            "Nhập số nguyên: 7\n",
            "Nhập số nguyên: 8\n",
            "Nhập số nguyên: 12\n",
            "Nhập số nguyên: 89\n",
            "I've found the meaning of life!\n"
          ]
        }
      ]
    },
    {
      "cell_type": "code",
      "source": [
        "#W4A6\n",
        "for x in range(5):\n",
        "  def so_nguyen_to(n):\n",
        "    if n < 2:\n",
        "        return False\n",
        "    for i in range(2, int(n**0.5) + 1):\n",
        "        if n % i == 0:\n",
        "            return False\n",
        "    return True\n",
        "  a,b = map(int,input('Nhập 2 số: ').split())\n",
        "  if a > b:\n",
        "    a, b = b, a\n",
        "  total = 0\n",
        "  for i in range(a, b+1):\n",
        "    if so_nguyen_to(i):\n",
        "        total += i\n",
        "  print(total)"
      ],
      "metadata": {
        "colab": {
          "base_uri": "https://localhost:8080/"
        },
        "id": "8Rnu7knl2EqI",
        "outputId": "b4ebc45a-85e8-4bc6-dda1-2c3ccda7a6ae"
      },
      "execution_count": null,
      "outputs": [
        {
          "output_type": "stream",
          "name": "stdout",
          "text": [
            "Nhập 2 số: 2 10\n",
            "17\n",
            "Nhập 2 số: 1 1\n",
            "0\n",
            "Nhập 2 số: 14 16\n",
            "0\n",
            "Nhập 2 số: 10 20\n",
            "60\n",
            "Nhập 2 số: 100 120\n",
            "533\n"
          ]
        }
      ]
    },
    {
      "cell_type": "code",
      "source": [
        "#W4A7\n",
        "for a in range(5):\n",
        "  def so_nguyen_to(x):\n",
        "    if x < 2:\n",
        "        return False\n",
        "    for i in range(2, int(x**0.5) + 1):\n",
        "        if x % i == 0:\n",
        "            return False\n",
        "    return True\n",
        "  n = int(input(\"Nhập số nguyên dương n: \"))\n",
        "  ước_lớn_nhất = 1\n",
        "  for j in range(2, n + 1):\n",
        "    if n % j == 0 and so_nguyen_to(j):\n",
        "        ước_lớn_nhất = j\n",
        "  print(ước_lớn_nhất)"
      ],
      "metadata": {
        "id": "c-LQcNZA2GuX",
        "colab": {
          "base_uri": "https://localhost:8080/"
        },
        "outputId": "c0e0584c-d297-41f2-8bcf-be45284698ad"
      },
      "execution_count": null,
      "outputs": [
        {
          "output_type": "stream",
          "name": "stdout",
          "text": [
            "Nhập số nguyên dương n: 10\n",
            "5\n",
            "Nhập số nguyên dương n: 27\n",
            "3\n",
            "Nhập số nguyên dương n: 97\n",
            "97\n",
            "Nhập số nguyên dương n: 64\n",
            "2\n",
            "Nhập số nguyên dương n: 99991\n",
            "99991\n"
          ]
        }
      ]
    },
    {
      "cell_type": "code",
      "source": [
        "#W4A8\n",
        "for x in range(5):\n",
        "  n = int(input(\"Nhập số nguyên dương n: \"))\n",
        "  def số_đối_xứng(n):\n",
        "    return str(n) == str(n)[::-1]\n",
        "  def reverse_number(n):\n",
        "    return int(str(n)[::-1])\n",
        "  đếm = 0\n",
        "  while not số_đối_xứng(n):\n",
        "    n += reverse_number(n)\n",
        "    đếm += 1\n",
        "  print(đếm, n)"
      ],
      "metadata": {
        "id": "YewGbgtT2Iqg",
        "colab": {
          "base_uri": "https://localhost:8080/"
        },
        "outputId": "6bb73303-60c3-4199-b490-aadfe05e498c"
      },
      "execution_count": null,
      "outputs": [
        {
          "output_type": "stream",
          "name": "stdout",
          "text": [
            "Nhập số nguyên dương n: 56\n",
            "1 121\n",
            "Nhập số nguyên dương n: 57\n",
            "2 363\n",
            "Nhập số nguyên dương n: 87\n",
            "4 4884\n",
            "Nhập số nguyên dương n: 89\n",
            "24 8813200023188\n",
            "Nhập số nguyên dương n: 195\n",
            "4 9339\n"
          ]
        }
      ]
    },
    {
      "cell_type": "code",
      "source": [
        "#W4A9\n",
        "for x in range(5):\n",
        "  def chữ_số_đôi_một_khác_nhau(a):\n",
        "    return len(str(a)) == len(set(str(a)))\n",
        "  n = int(input('Nhập số nguyên dương: '))\n",
        "  kết_quả = []\n",
        "  k = 1\n",
        "  while k*k <= n:\n",
        "    if chữ_số_đôi_một_khác_nhau(k*k):\n",
        "        kết_quả.append(k*k)\n",
        "    k+=1\n",
        "  if kết_quả:\n",
        "    print(kết_quả)\n",
        "  else:\n",
        "    print('(no number)')"
      ],
      "metadata": {
        "colab": {
          "base_uri": "https://localhost:8080/"
        },
        "id": "WfVOJTv8_ep6",
        "outputId": "4e2ea5ce-5fdd-4c13-ebea-c822e7bea10e"
      },
      "execution_count": null,
      "outputs": [
        {
          "output_type": "stream",
          "name": "stdout",
          "text": [
            "Nhập số nguyên dương: 10\n",
            "[1, 4, 9]\n",
            "Nhập số nguyên dương: 50\n",
            "[1, 4, 9, 16, 25, 36, 49]\n",
            "Nhập số nguyên dương: 100\n",
            "[1, 4, 9, 16, 25, 36, 49, 64, 81]\n",
            "Nhập số nguyên dương: 1000\n",
            "[1, 4, 9, 16, 25, 36, 49, 64, 81, 169, 196, 256, 289, 324, 361, 529, 576, 625, 729, 784, 841, 961]\n",
            "Nhập số nguyên dương: 5000\n",
            "[1, 4, 9, 16, 25, 36, 49, 64, 81, 169, 196, 256, 289, 324, 361, 529, 576, 625, 729, 784, 841, 961, 1024, 1089, 1296, 1369, 1764, 1849, 1936, 2304, 2401, 2601, 2704, 2809, 2916, 3025, 3249, 3481, 3721, 4096, 4356, 4761]\n"
          ]
        }
      ]
    },
    {
      "cell_type": "code",
      "source": [
        "#W4A10\n",
        "for a in range(5):\n",
        "  n = int(input('Nhập số nguyên dương: '))\n",
        "  def collazt(x):\n",
        "    collazt_length = 1\n",
        "    while x != 1:\n",
        "        if x % 2 == 0:\n",
        "            x = x // 2\n",
        "            collazt_length += 1\n",
        "        elif x == 1:\n",
        "            break\n",
        "        else:\n",
        "            x = 3*x + 1\n",
        "            collazt_length += 1\n",
        "    return collazt_length\n",
        "  def longest_collazt_length(n):\n",
        "    max_length = 0\n",
        "    result = 1\n",
        "    for i in range(1, n+1):\n",
        "      length = collazt(i)\n",
        "      if length > max_length or (length == max_length and i < result):\n",
        "          max_length = length\n",
        "          result = i\n",
        "    print(result, max_length)\n",
        "  longest_collazt_length(n)"
      ],
      "metadata": {
        "colab": {
          "base_uri": "https://localhost:8080/"
        },
        "id": "WyJy_xEbCMhD",
        "outputId": "b5275f07-6b43-43b7-eebc-d926552103da"
      },
      "execution_count": null,
      "outputs": [
        {
          "output_type": "stream",
          "name": "stdout",
          "text": [
            "Nhập số nguyên dương: 10\n",
            "9 20\n",
            "Nhập số nguyên dương: 20\n",
            "18 21\n",
            "Nhập số nguyên dương: 50\n",
            "27 112\n",
            "Nhập số nguyên dương: 100\n",
            "97 119\n",
            "Nhập số nguyên dương: 200\n",
            "171 125\n"
          ]
        }
      ]
    },
    {
      "cell_type": "code",
      "source": [
        "#W4A11\n",
        "for a in range(5):\n",
        "  n = int(input('Nhập số nguyên dương: '))\n",
        "  ước_chẵn = 0\n",
        "  for i in range(1, n+1):\n",
        "    if n % i == 0:\n",
        "        if i % 2 == 0:\n",
        "            ước_chẵn += 1\n",
        "        else:\n",
        "            ước_chẵn += 0\n",
        "  print(ước_chẵn)"
      ],
      "metadata": {
        "colab": {
          "base_uri": "https://localhost:8080/"
        },
        "id": "CKkbWX-KOL8j",
        "outputId": "00cec4bb-1c80-474b-e36d-5b4029c540b3"
      },
      "execution_count": null,
      "outputs": [
        {
          "output_type": "stream",
          "name": "stdout",
          "text": [
            "Nhập số nguyên dương: 8\n",
            "3\n",
            "Nhập số nguyên dương: 17\n",
            "0\n",
            "Nhập số nguyên dương: 1994\n",
            "2\n",
            "Nhập số nguyên dương: 2048\n",
            "11\n",
            "Nhập số nguyên dương: 10024\n",
            "12\n"
          ]
        }
      ]
    },
    {
      "cell_type": "code",
      "source": [
        "#W4A12\n",
        "for x in range(5):\n",
        "  tiền = float(input('Nhập số tiền: '))\n",
        "  N = int(input('Nhập số tháng gửi tiết kiệm: '))\n",
        "  for i in range(N):\n",
        "    tiền = tiền*(1 + 0.007)\n",
        "  print(int(tiền))"
      ],
      "metadata": {
        "id": "LLcB894zVCRN",
        "colab": {
          "base_uri": "https://localhost:8080/"
        },
        "outputId": "c4db2d0f-f928-48d5-84a9-426e4af2408f"
      },
      "execution_count": null,
      "outputs": [
        {
          "output_type": "stream",
          "name": "stdout",
          "text": [
            "Nhập số tiền: 1000\n",
            "Nhập số tháng gửi tiết kiệm: 12\n",
            "1087\n",
            "Nhập số tiền: 1999\n",
            "Nhập số tháng gửi tiết kiệm: 4\n",
            "2055\n",
            "Nhập số tiền: 2020\n",
            "Nhập số tháng gửi tiết kiệm: 0\n",
            "2020\n",
            "Nhập số tiền: 200000\n",
            "Nhập số tháng gửi tiết kiệm: 12\n",
            "217462\n",
            "Nhập số tiền: 7800\n",
            "Nhập số tháng gửi tiết kiệm: 48\n",
            "10902\n"
          ]
        }
      ]
    },
    {
      "cell_type": "code",
      "source": [
        "#W4A13\n",
        "for x in range(5):\n",
        "  a, b = map(int,input('Nhập 2 số a và b: ').split())\n",
        "  tổng_ước_của_a = 0\n",
        "  tổng_ước_của_b = 0\n",
        "  for i in range(1, a):\n",
        "    if a % i == 0:\n",
        "        tổng_ước_của_a += i\n",
        "  for j in range(1, b):\n",
        "    if b % j == 0:\n",
        "        tổng_ước_của_b += j\n",
        "  if tổng_ước_của_a == b and tổng_ước_của_b == a:\n",
        "    print('true')\n",
        "  else:\n",
        "    print('false')"
      ],
      "metadata": {
        "id": "KBotXcPHOMuy",
        "colab": {
          "base_uri": "https://localhost:8080/"
        },
        "outputId": "bd60810c-0045-4359-8ac4-74977db1505e"
      },
      "execution_count": 2,
      "outputs": [
        {
          "output_type": "stream",
          "name": "stdout",
          "text": [
            "Nhập 2 số a và b: 220 284\n",
            "true\n",
            "Nhập 2 số a và b: 10 7\n",
            "false\n",
            "Nhập 2 số a và b: 1992 2012\n",
            "false\n",
            "Nhập 2 số a và b: 1184 1210\n",
            "true\n",
            "Nhập 2 số a và b: 2620 2924\n",
            "true\n"
          ]
        }
      ]
    },
    {
      "cell_type": "code",
      "source": [
        "#W4A14\n",
        "for x in range(5):\n",
        "  m,n = map(int,input('Nhập số 2 nguyên dương: ').split())\n",
        "  list = []\n",
        "  for i in range(1, n+1):\n",
        "      if m % i == 0 and n % i == 0:\n",
        "          list.append(i)\n",
        "  print(list[-1])"
      ],
      "metadata": {
        "colab": {
          "base_uri": "https://localhost:8080/"
        },
        "id": "LCuXxWYlOMcZ",
        "outputId": "7c27c0b6-cc63-4d94-f7ff-2296c3162490"
      },
      "execution_count": null,
      "outputs": [
        {
          "output_type": "stream",
          "name": "stdout",
          "text": [
            "Nhập số 2 nguyên dương: 3 1\n",
            "1\n",
            "Nhập số 2 nguyên dương: 15 42\n",
            "3\n",
            "Nhập số 2 nguyên dương: 2048 197\n",
            "1\n",
            "Nhập số 2 nguyên dương: 19876 248\n",
            "4\n",
            "Nhập số 2 nguyên dương: 100024 1024\n",
            "8\n"
          ]
        }
      ]
    },
    {
      "cell_type": "code",
      "source": [
        "#W4A15\n",
        "for x in range(5):\n",
        "  gà_và_chó = int(input('Nhập số gà và chó: '))\n",
        "  số_chân = int(input('Nhập số chân: '))\n",
        "  nghiệm = 0\n",
        "  for gà in range(0, gà_và_chó):\n",
        "    chó = gà_và_chó - gà\n",
        "    if chó*4 + gà*2 == số_chân:\n",
        "        nghiệm += 1\n",
        "        print('Số gà và chó lần lượt là:',gà,chó)\n",
        "  if nghiệm == 0:\n",
        "    print('invalid')"
      ],
      "metadata": {
        "id": "QxS-nDWYVC--",
        "colab": {
          "base_uri": "https://localhost:8080/"
        },
        "outputId": "46563530-d435-4e5b-c640-6c3d3a667d63"
      },
      "execution_count": 1,
      "outputs": [
        {
          "output_type": "stream",
          "name": "stdout",
          "text": [
            "Nhập số gà và chó: 36\n",
            "Nhập số chân: 100\n",
            "Số gà và chó lần lượt là: 22 14\n",
            "Nhập số gà và chó: 52\n",
            "Nhập số chân: 117\n",
            "invalid\n",
            "Nhập số gà và chó: 26\n",
            "Nhập số chân: 67\n",
            "invalid\n",
            "Nhập số gà và chó: 78\n",
            "Nhập số chân: 194\n",
            "Số gà và chó lần lượt là: 59 19\n",
            "Nhập số gà và chó: 120\n",
            "Nhập số chân: 242\n",
            "Số gà và chó lần lượt là: 119 1\n"
          ]
        }
      ]
    },
    {
      "cell_type": "code",
      "source": [
        "#W4A16\n",
        "for i in range(1, 100):\n",
        "    if i % 2 == 0 and i % 3 == 0:\n",
        "        print(i)"
      ],
      "metadata": {
        "colab": {
          "base_uri": "https://localhost:8080/"
        },
        "id": "bbHPKKGoOM-5",
        "outputId": "6ecefe48-5f42-41b2-a9d4-0d3ab81e8e58"
      },
      "execution_count": null,
      "outputs": [
        {
          "output_type": "stream",
          "name": "stdout",
          "text": [
            "6\n",
            "12\n",
            "18\n",
            "24\n",
            "30\n",
            "36\n",
            "42\n",
            "48\n",
            "54\n",
            "60\n",
            "66\n",
            "72\n",
            "78\n",
            "84\n",
            "90\n",
            "96\n"
          ]
        }
      ]
    },
    {
      "cell_type": "code",
      "source": [
        "#W4A17\n",
        "for x in range(10):\n",
        "  a = int(input('Nhập số nguyên dương: '))\n",
        "  bảng_cửu_chương = []\n",
        "  for i in range(1, 11):\n",
        "    bảng_cửu_chương.append(f'{a} x {i} = {a*i}')\n",
        "  print(bảng_cửu_chương)"
      ],
      "metadata": {
        "colab": {
          "base_uri": "https://localhost:8080/"
        },
        "id": "rmHDqwtkONXR",
        "outputId": "177c7c56-1028-4126-e57d-4b7c4f9987b9"
      },
      "execution_count": null,
      "outputs": [
        {
          "output_type": "stream",
          "name": "stdout",
          "text": [
            "Nhập số nguyên dương: 1\n",
            "['1 x 1 = 1', '1 x 2 = 2', '1 x 3 = 3', '1 x 4 = 4', '1 x 5 = 5', '1 x 6 = 6', '1 x 7 = 7', '1 x 8 = 8', '1 x 9 = 9', '1 x 10 = 10']\n",
            "Nhập số nguyên dương: 2\n",
            "['2 x 1 = 2', '2 x 2 = 4', '2 x 3 = 6', '2 x 4 = 8', '2 x 5 = 10', '2 x 6 = 12', '2 x 7 = 14', '2 x 8 = 16', '2 x 9 = 18', '2 x 10 = 20']\n",
            "Nhập số nguyên dương: 3\n",
            "['3 x 1 = 3', '3 x 2 = 6', '3 x 3 = 9', '3 x 4 = 12', '3 x 5 = 15', '3 x 6 = 18', '3 x 7 = 21', '3 x 8 = 24', '3 x 9 = 27', '3 x 10 = 30']\n",
            "Nhập số nguyên dương: 4\n",
            "['4 x 1 = 4', '4 x 2 = 8', '4 x 3 = 12', '4 x 4 = 16', '4 x 5 = 20', '4 x 6 = 24', '4 x 7 = 28', '4 x 8 = 32', '4 x 9 = 36', '4 x 10 = 40']\n",
            "Nhập số nguyên dương: 5\n",
            "['5 x 1 = 5', '5 x 2 = 10', '5 x 3 = 15', '5 x 4 = 20', '5 x 5 = 25', '5 x 6 = 30', '5 x 7 = 35', '5 x 8 = 40', '5 x 9 = 45', '5 x 10 = 50']\n",
            "Nhập số nguyên dương: 6\n",
            "['6 x 1 = 6', '6 x 2 = 12', '6 x 3 = 18', '6 x 4 = 24', '6 x 5 = 30', '6 x 6 = 36', '6 x 7 = 42', '6 x 8 = 48', '6 x 9 = 54', '6 x 10 = 60']\n",
            "Nhập số nguyên dương: 7\n",
            "['7 x 1 = 7', '7 x 2 = 14', '7 x 3 = 21', '7 x 4 = 28', '7 x 5 = 35', '7 x 6 = 42', '7 x 7 = 49', '7 x 8 = 56', '7 x 9 = 63', '7 x 10 = 70']\n",
            "Nhập số nguyên dương: 8\n",
            "['8 x 1 = 8', '8 x 2 = 16', '8 x 3 = 24', '8 x 4 = 32', '8 x 5 = 40', '8 x 6 = 48', '8 x 7 = 56', '8 x 8 = 64', '8 x 9 = 72', '8 x 10 = 80']\n",
            "Nhập số nguyên dương: 9\n",
            "['9 x 1 = 9', '9 x 2 = 18', '9 x 3 = 27', '9 x 4 = 36', '9 x 5 = 45', '9 x 6 = 54', '9 x 7 = 63', '9 x 8 = 72', '9 x 9 = 81', '9 x 10 = 90']\n",
            "Nhập số nguyên dương: 10\n",
            "['10 x 1 = 10', '10 x 2 = 20', '10 x 3 = 30', '10 x 4 = 40', '10 x 5 = 50', '10 x 6 = 60', '10 x 7 = 70', '10 x 8 = 80', '10 x 9 = 90', '10 x 10 = 100']\n"
          ]
        }
      ]
    },
    {
      "cell_type": "code",
      "source": [
        "#W4A18\n",
        "a,b = map(int,input('Nhập số nguyên dương: ').split())\n",
        "ước_chung_của_a_và_b = []\n",
        "for i in range(1, a + 1):\n",
        "    if a % i == 0 and b % i == 0:\n",
        "        ước_chung_của_a_và_b.append(i)\n",
        "print('Ước chung của a và b là:', ước_chung_của_a_và_b)"
      ],
      "metadata": {
        "colab": {
          "base_uri": "https://localhost:8080/"
        },
        "id": "uvHnQPIVONkT",
        "outputId": "fb050f16-4567-445b-f2cc-0ac7a6be6af7"
      },
      "execution_count": null,
      "outputs": [
        {
          "output_type": "stream",
          "name": "stdout",
          "text": [
            "Nhập số nguyên dương: 24 6\n",
            "Ước chung của a và b là: [1, 2, 3, 6]\n"
          ]
        }
      ]
    },
    {
      "cell_type": "code",
      "source": [
        "#W4A19\n",
        "for x in range(5):\n",
        "  n = int(input('Nhập số nguyên dương: '))\n",
        "  số = []\n",
        "  for i in range(1, n+1):\n",
        "    if i % 2 == 0:\n",
        "        số.append(i)\n",
        "  print(số)"
      ],
      "metadata": {
        "colab": {
          "base_uri": "https://localhost:8080/"
        },
        "id": "veSR0kxmONwC",
        "outputId": "23a252a0-e7ed-4ff1-b1e0-9afe7470ea99"
      },
      "execution_count": null,
      "outputs": [
        {
          "output_type": "stream",
          "name": "stdout",
          "text": [
            "Nhập số nguyên dương: 8\n",
            "[2, 4, 6, 8]\n",
            "Nhập số nguyên dương: 20\n",
            "[2, 4, 6, 8, 10, 12, 14, 16, 18, 20]\n",
            "Nhập số nguyên dương: 3\n",
            "[2]\n",
            "Nhập số nguyên dương: 9\n",
            "[2, 4, 6, 8]\n",
            "Nhập số nguyên dương: 10\n",
            "[2, 4, 6, 8, 10]\n"
          ]
        }
      ]
    },
    {
      "cell_type": "code",
      "source": [
        "#W4A20\n",
        "n = int(input('Nhập số nguyên dương: '))\n",
        "def mũ_2(n):\n",
        "    return n > 0 and (n&(n-1)) == 0\n",
        "if mũ_2(n):\n",
        "    print('n là số dạng 2^k.')\n",
        "else:\n",
        "    print('n không phải là số dạng 2^k.')"
      ],
      "metadata": {
        "colab": {
          "base_uri": "https://localhost:8080/"
        },
        "id": "PRf6EV54ON8a",
        "outputId": "52ab7fb3-579a-4be5-cf0c-8859a5a66b7e"
      },
      "execution_count": null,
      "outputs": [
        {
          "output_type": "stream",
          "name": "stdout",
          "text": [
            "Nhập số nguyên dương: 1024\n",
            "n là số dạng 2^k.\n"
          ]
        }
      ]
    },
    {
      "cell_type": "code",
      "source": [
        "#W4A21\n",
        "n = input('Nhập số nguyên dương: ')\n",
        "tổng = 0\n",
        "for i in range(len(n)):\n",
        "    tổng += int(n[i])\n",
        "print(f'Tổng các chữ số của {n} là {tổng}')"
      ],
      "metadata": {
        "colab": {
          "base_uri": "https://localhost:8080/"
        },
        "id": "SvH2CxvYOOH5",
        "outputId": "6543cd77-901e-483e-e659-e5f1254f0df4"
      },
      "execution_count": null,
      "outputs": [
        {
          "output_type": "stream",
          "name": "stdout",
          "text": [
            "Nhập số nguyên dương: 153326\n",
            "Tổng các chữ số của 153326 là 20\n"
          ]
        }
      ]
    },
    {
      "cell_type": "code",
      "source": [
        "#W4A22\n",
        "n = input('Nhập số nguyên dương: ')\n",
        "def số_chẵn(n):\n",
        "    return int(n[i]) % 2 == 0\n",
        "def số_lẻ(n):\n",
        "    return int(n[i]) % 2 != 0\n",
        "chữ_số_chẵn = 0\n",
        "chữ_số_lẻ = 0\n",
        "for i in range(len(n)):\n",
        "    if số_chẵn(n):\n",
        "        chữ_số_chẵn += 1\n",
        "    elif số_lẻ(n):\n",
        "        chữ_số_lẻ += 1\n",
        "print(f'Số {n} có {chữ_số_chẵn} chữ số chẵn, {chữ_số_lẻ} chữ số lẻ.')"
      ],
      "metadata": {
        "colab": {
          "base_uri": "https://localhost:8080/"
        },
        "id": "4Nbb00AeOOUS",
        "outputId": "015979c9-c54e-45be-b4f1-4863efa3ae85"
      },
      "execution_count": null,
      "outputs": [
        {
          "output_type": "stream",
          "name": "stdout",
          "text": [
            "Nhập số nguyên dương: 23516\n",
            "Số 23516 có 2 chữ số chẵn, 3 chữ số lẻ.\n"
          ]
        }
      ]
    },
    {
      "cell_type": "code",
      "source": [
        "#W4A23\n",
        "n = int(input('Nhập n: '))\n",
        "S = 0\n",
        "k = 0\n",
        "while S < n:\n",
        "    k +=1\n",
        "    S += k\n",
        "if S >= n:\n",
        "    print(f'k = {k-1} thì S(k) lớn nhất = {S - k} nhưng nhỏ hơn n = {n}')"
      ],
      "metadata": {
        "id": "nzkv8Tiqdsa1",
        "colab": {
          "base_uri": "https://localhost:8080/"
        },
        "outputId": "357b7b0f-5e7a-41a8-e3d7-26b40b708f8a"
      },
      "execution_count": null,
      "outputs": [
        {
          "output_type": "stream",
          "name": "stdout",
          "text": [
            "Nhập n: 12\n",
            "k = 4 thì S(k) lớn nhất = 10 nhưng nhỏ hơn n = 12\n"
          ]
        }
      ]
    },
    {
      "cell_type": "code",
      "source": [
        "#W4A24\n",
        "A = float(input('Nhập số A: '))\n",
        "S = 0.0\n",
        "n = 0\n",
        "while S <= A:\n",
        "    n +=1\n",
        "    S += 1/n\n",
        "print(f'Giá trị nhỏ nhất của n để 1 + 1/2 + 1/3 + 1/4 + ... + 1/n > A là: {n}')"
      ],
      "metadata": {
        "id": "C3AQ4jZDdsnr",
        "colab": {
          "base_uri": "https://localhost:8080/"
        },
        "outputId": "d5ba77dc-4398-43ce-bf38-e6403d991098"
      },
      "execution_count": null,
      "outputs": [
        {
          "output_type": "stream",
          "name": "stdout",
          "text": [
            "Nhập số A: 12\n",
            "Giá trị nhỏ nhất của n để 1 + 1/2 + 1/3 + 1/4 + ... + 1/n > A là: 91380\n"
          ]
        }
      ]
    },
    {
      "cell_type": "code",
      "source": [
        "#W4A25\n",
        "dãy_số = []\n",
        "while True:\n",
        "    n = int(input('Nhập 1 số nguyên: '))\n",
        "    if n == -1:\n",
        "        break\n",
        "    dãy_số.append(n)\n",
        "print('Số lớn nhất là',max(dãy_số))\n",
        "print('Số nhỏ nhất là',min(dãy_số))"
      ],
      "metadata": {
        "id": "yaptvQSgdswv",
        "colab": {
          "base_uri": "https://localhost:8080/"
        },
        "outputId": "d95ec53c-f43a-454e-99d1-d845a66b6118"
      },
      "execution_count": null,
      "outputs": [
        {
          "output_type": "stream",
          "name": "stdout",
          "text": [
            "Nhập 1 số nguyên: 41\n",
            "Nhập 1 số nguyên: 25\n",
            "Nhập 1 số nguyên: 1\n",
            "Nhập 1 số nguyên: 52\n",
            "Nhập 1 số nguyên: -1\n",
            "Số lớn nhất là 52\n",
            "Số nhỏ nhất là 1\n"
          ]
        }
      ]
    },
    {
      "cell_type": "code",
      "source": [
        "#W4A26\n",
        "A = int(input('Nhập số nguyên dương: '))\n",
        "f0 = 0\n",
        "f1 = 1\n",
        "while f1 <= A:\n",
        "    f0, f1 = f1, f0 + f1\n",
        "print(f'{f0} là số lớn nhất trong dãy Fibonacci nhưng không vượt quá A = {A}')"
      ],
      "metadata": {
        "id": "u8xUZFlKdtEc",
        "colab": {
          "base_uri": "https://localhost:8080/"
        },
        "outputId": "d00d070b-29a3-4cc8-bf12-f042e90b9191"
      },
      "execution_count": null,
      "outputs": [
        {
          "output_type": "stream",
          "name": "stdout",
          "text": [
            "Nhập số nguyên dương: 124\n",
            "89 là số lớn nhất trong dãy Fibonacci nhưng không vượt quá A = 124\n"
          ]
        }
      ]
    },
    {
      "cell_type": "code",
      "source": [
        "#W4A27\n",
        "chuỗi = input('Nhập vào 1 chuỗi: ')\n",
        "số_từ = 0\n",
        "for i in range(0, len(chuỗi)):\n",
        "    if chuỗi[i] != ' ':\n",
        "        if i == 0 or chuỗi[i - 1] == ' ':\n",
        "            số_từ += 1\n",
        "print('Số từ trong chuỗi là:', số_từ)"
      ],
      "metadata": {
        "id": "l15Qg8ICdtM2",
        "colab": {
          "base_uri": "https://localhost:8080/"
        },
        "outputId": "63577bec-130e-4cf4-a41b-b6eb43d2aae5"
      },
      "execution_count": null,
      "outputs": [
        {
          "output_type": "stream",
          "name": "stdout",
          "text": [
            "Nhập vào 1 chuỗi: Bạn này hôm nay vẫn dễ thương\n",
            "Số từ trong chuỗi là: 7\n"
          ]
        }
      ]
    },
    {
      "cell_type": "code",
      "source": [
        "#W4A28\n",
        "chuỗi = input('Nhập vào 1 chuỗi: ')\n",
        "từ_đầu = ''\n",
        "for i in range(0, len(chuỗi)):\n",
        "    if chuỗi[i] != ' ':\n",
        "        if True:\n",
        "            từ_đầu += chuỗi[i]\n",
        "    else:\n",
        "        break\n",
        "print(từ_đầu)"
      ],
      "metadata": {
        "id": "VyEaZxQFdtZp",
        "colab": {
          "base_uri": "https://localhost:8080/"
        },
        "outputId": "5502d1c1-9268-4c35-82fe-2b38a7980502"
      },
      "execution_count": null,
      "outputs": [
        {
          "output_type": "stream",
          "name": "stdout",
          "text": [
            "Nhập vào 1 chuỗi: Suisei is so cute!!!\n",
            "Suisei\n"
          ]
        }
      ]
    },
    {
      "cell_type": "code",
      "source": [
        "#W4A29\n",
        "chuỗi = input('Nhập vào 1 chuỗi: ')\n",
        "tổng = 0\n",
        "số = chuỗi.split(', ')\n",
        "for i in range(0, len(số)):\n",
        "    tổng +=int(số[i])\n",
        "print(tổng)"
      ],
      "metadata": {
        "id": "I1rcxM1cpCLI",
        "colab": {
          "base_uri": "https://localhost:8080/"
        },
        "outputId": "835ce3f8-9cbe-4c7f-f859-22ec83cfacc9"
      },
      "execution_count": null,
      "outputs": [
        {
          "output_type": "stream",
          "name": "stdout",
          "text": [
            "Nhập vào 1 chuỗi: 3, 12, 15\n",
            "30\n"
          ]
        }
      ]
    },
    {
      "cell_type": "code",
      "source": [
        "#W4A30\n",
        "chuỗi = input('Nhập vào 1 chuỗi: ')\n",
        "in_hoa = 0\n",
        "in_thường = 0\n",
        "số = 0\n",
        "for i in range(0, len(chuỗi)):\n",
        "    if chuỗi[i] == ' ':\n",
        "        continue\n",
        "    elif '0' <= chuỗi[i] <= '9':\n",
        "        số += 1\n",
        "    elif 'A' <= chuỗi[i] <= 'Z':\n",
        "        in_hoa += 1\n",
        "    elif 'a' <= chuỗi[i] <= 'z':\n",
        "        in_thường += 1\n",
        "    else:\n",
        "        continue\n",
        "print(f'Số chữ in hoa: {in_hoa}')\n",
        "print(f'Số chữ in thường: {in_thường}')\n",
        "print(f'Số ký tự số: {số}')"
      ],
      "metadata": {
        "id": "ALUuWOTepCV-",
        "colab": {
          "base_uri": "https://localhost:8080/"
        },
        "outputId": "ac4ce2be-489e-4d84-d916-321bfa4416be"
      },
      "execution_count": null,
      "outputs": [
        {
          "output_type": "stream",
          "name": "stdout",
          "text": [
            "Nhập vào 1 chuỗi: My name is Hai Nam, and i am 18 years old.\n",
            "Số chữ in hoa: 3\n",
            "Số chữ in thường: 25\n",
            "Số ký tự số: 2\n"
          ]
        }
      ]
    },
    {
      "cell_type": "code",
      "source": [
        "#W4A31\n",
        "chuỗi = input('Nhập chuỗi: ')\n",
        "tổng = 0\n",
        "for i in range(0, len(chuỗi)):\n",
        "    if '0' <= chuỗi[i] <= '9':\n",
        "        tổng += int(chuỗi[i])\n",
        "    else:\n",
        "        continue\n",
        "print(f'Tổng: {tổng}')"
      ],
      "metadata": {
        "id": "uPoWyHhOpCnS",
        "colab": {
          "base_uri": "https://localhost:8080/"
        },
        "outputId": "ca8b93f4-83a8-4209-cabe-9e12aede425c"
      },
      "execution_count": null,
      "outputs": [
        {
          "output_type": "stream",
          "name": "stdout",
          "text": [
            "Nhập chuỗi: abd45ecf47wde3s1\n",
            "Tổng: 24\n"
          ]
        }
      ]
    },
    {
      "cell_type": "code",
      "source": [
        "#W4A32\n",
        "chuỗi = input('Nhập chuỗi: ')\n",
        "tổng = 0\n",
        "if len(chuỗi) <= 6:\n",
        "    print('Đây không phải là mật khẩu mạnh.')\n",
        "else:\n",
        "    số = 0\n",
        "    in_hoa = 0\n",
        "    in_thường = 0\n",
        "    ký_tự_đặc_biệt = 0\n",
        "    for i in range(0, len(chuỗi)):\n",
        "        if '0' <= chuỗi[i] <= '9':\n",
        "            số += 1\n",
        "        elif 'a' <= chuỗi[i] <= 'z':\n",
        "            in_thường += 1\n",
        "        elif 'A' <= chuỗi[i] <= 'Z':\n",
        "            in_hoa += 1\n",
        "        else:\n",
        "            ký_tự_đặc_biệt += 1\n",
        "    if số >= 1 and in_hoa >= 1 and in_thường >= 1 and ký_tự_đặc_biệt >= 1:\n",
        "        print('Đây là mật khẩu mạnh.')\n",
        "    else:\n",
        "        print('Đây không phải là mật khẩu mạnh.')"
      ],
      "metadata": {
        "id": "7SI70mZSpC4G",
        "colab": {
          "base_uri": "https://localhost:8080/"
        },
        "outputId": "a5949ac7-3b84-4724-caca-488c3018635f"
      },
      "execution_count": null,
      "outputs": [
        {
          "output_type": "stream",
          "name": "stdout",
          "text": [
            "Nhập chuỗi: aNm!5Ylz\n",
            "Đây là mật khẩu mạnh.\n"
          ]
        }
      ]
    },
    {
      "cell_type": "code",
      "source": [
        "#W4A33\n",
        "n = int(input('Nhập vào 1 số nguyên: '))\n",
        "chuỗi = str(n)[::-1]\n",
        "dấu_chấm_phân_tách = ''\n",
        "for i in range(len(chuỗi)):\n",
        "    if i > 0 and i % 3 == 0:\n",
        "        dấu_chấm_phân_tách += '.'\n",
        "    dấu_chấm_phân_tách += chuỗi[i]\n",
        "print(dấu_chấm_phân_tách[::-1])"
      ],
      "metadata": {
        "id": "rg0uFqbJpDEJ",
        "colab": {
          "base_uri": "https://localhost:8080/"
        },
        "outputId": "28b07549-2abc-4944-9d73-54f7eab3a743"
      },
      "execution_count": null,
      "outputs": [
        {
          "output_type": "stream",
          "name": "stdout",
          "text": [
            "Nhập vào 1 số nguyên: 375469485\n",
            "375.469.485\n"
          ]
        }
      ]
    },
    {
      "cell_type": "code",
      "source": [
        "#W4A34\n",
        "a = input('Nhập chuỗi a: ')\n",
        "b = input('Nhập chuỗi b: ')\n",
        "i = 0\n",
        "a_sau_khi_xóa = ''\n",
        "while i < len(a):\n",
        "    if a[i:i+len(b)] == b:\n",
        "        i += len(b)\n",
        "    else:\n",
        "        a_sau_khi_xóa += a[i]\n",
        "        i += 1\n",
        "print('Chuỗi a sau khi xóa:', a_sau_khi_xóa)"
      ],
      "metadata": {
        "id": "uTsiuEp3pDZ2",
        "colab": {
          "base_uri": "https://localhost:8080/"
        },
        "outputId": "68f4766a-1c7c-47e7-e42c-3ca31232d490"
      },
      "execution_count": null,
      "outputs": [
        {
          "output_type": "stream",
          "name": "stdout",
          "text": [
            "Nhập chuỗi a: Xin chào mọi người!\n",
            "Nhập chuỗi b: Xin chào\n",
            "Chuỗi a sau khi xóa:  mọi người!\n"
          ]
        }
      ]
    }
  ]
}